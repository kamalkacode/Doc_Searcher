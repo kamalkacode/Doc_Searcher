{
 "cells": [
  {
   "cell_type": "code",
   "execution_count": 1,
   "metadata": {},
   "outputs": [],
   "source": [
    "from os import listdir\n",
    "import io\n",
    "import gensim\n",
    "import gensim.models.doc2vec as d2v"
   ]
  },
  {
   "cell_type": "code",
   "execution_count": 2,
   "metadata": {},
   "outputs": [],
   "source": [
    "dir_path = \"/home/kush/Desktop/Wiki_Data_2.1\""
   ]
  },
  {
   "cell_type": "code",
   "execution_count": 3,
   "metadata": {},
   "outputs": [],
   "source": [
    "doc_labels = [f for f in listdir(dir_path) ]\n",
    "doc_words = []\n",
    "doc_tags = []\n",
    "for doc_name in doc_labels:\n",
    "    f = open(dir_path + '/' + doc_name)\n",
    "    full_str = []\n",
    "    for string in f:\n",
    "        full_str.extend(string.split())\n",
    "    doc_tags.append(doc_name)\n",
    "    doc_words.append(full_str)"
   ]
  },
  {
   "cell_type": "code",
   "execution_count": 4,
   "metadata": {},
   "outputs": [
    {
     "name": "stdout",
     "output_type": "stream",
     "text": [
      "3447\n"
     ]
    }
   ],
   "source": [
    "print len(doc_tags)\n",
    "# for i in docs:\n",
    "#     for j in i :\n",
    "#         print len(j)"
   ]
  },
  {
   "cell_type": "code",
   "execution_count": 5,
   "metadata": {},
   "outputs": [],
   "source": [
    "class LabeledDocuments(object):\n",
    "    def __init__(self,doc_words,doc_labels):\n",
    "        self.doc_words = doc_words\n",
    "        self.doc_labels = doc_labels\n",
    "    def __iter__(self):\n",
    "        for doc_words in self.doc_words:\n",
    "            yield d2v.TaggedDocument(words= doc_words, tags = [t for t in self.doc_labels])\n",
    "            "
   ]
  },
  {
   "cell_type": "code",
   "execution_count": 35,
   "metadata": {},
   "outputs": [],
   "source": [
    "#print len(docs)\n",
    "# for f in docs[1]:\n",
    "#     print type(f)\n",
    "# for doc in docs:\n",
    "#     doc_text = \"\"\n",
    "#     for para in doc :\n",
    "#         print para   \n",
    "#       yield d2v.TaggedDocument(words= doc_text.split(), tags = [t for t in self.doc_labels])"
   ]
  },
  {
   "cell_type": "code",
   "execution_count": 6,
   "metadata": {},
   "outputs": [],
   "source": [
    "DocFile = LabeledDocuments(doc_words,doc_tags)\n",
    "#print type(DocFile)"
   ]
  },
  {
   "cell_type": "code",
   "execution_count": 7,
   "metadata": {},
   "outputs": [],
   "source": [
    "# for ix,obj in enumerate(DocFile):\n",
    "#     print ix"
   ]
  },
  {
   "cell_type": "code",
   "execution_count": 8,
   "metadata": {},
   "outputs": [
    {
     "name": "stderr",
     "output_type": "stream",
     "text": [
      "/usr/local/lib/python2.7/dist-packages/gensim/models/doc2vec.py:535: UserWarning: The parameter `size` is deprecated, will be removed in 4.0.0, use `vector_size` instead.\n",
      "  warnings.warn(\"The parameter `size` is deprecated, will be removed in 4.0.0, use `vector_size` instead.\")\n",
      "/usr/local/lib/python2.7/dist-packages/ipykernel_launcher.py:11: DeprecationWarning: Call to deprecated `iter` (Attribute will be removed in 4.0.0, use self.epochs instead).\n",
      "  # This is added back by InteractiveShellApp.init_path()\n"
     ]
    }
   ],
   "source": [
    "model = gensim.models.Doc2Vec(size=300, window=10,\n",
    "                              min_count=5, workers=11,\n",
    "                              alpha=0.025, min_alpha=0.025) \n",
    "\n",
    "\n",
    "model.build_vocab(DocFile)\n",
    "\n",
    "DocFile = LabeledDocuments(doc_words,doc_tags)\n",
    "\n",
    "for epoch in range(10):\n",
    "    model.train(DocFile,total_examples=model.corpus_count, epochs=model.iter)\n",
    "    model.alpha -= 0.002\n",
    "    model.min_alpha -= 0.002\n",
    "    "
   ]
  },
  {
   "cell_type": "code",
   "execution_count": 25,
   "metadata": {},
   "outputs": [],
   "source": [
    "test_file = open(\"/home/kush/Desktop/test_doc\")"
   ]
  },
  {
   "cell_type": "code",
   "execution_count": 26,
   "metadata": {},
   "outputs": [],
   "source": [
    "test_data = []\n",
    "for i in test_file:\n",
    "    test_data.extend(i.split())"
   ]
  },
  {
   "cell_type": "code",
   "execution_count": 27,
   "metadata": {},
   "outputs": [
    {
     "name": "stdout",
     "output_type": "stream",
     "text": [
      "241\n"
     ]
    }
   ],
   "source": [
    "# print type(test_data)\n",
    "print len(test_data)"
   ]
  },
  {
   "cell_type": "code",
   "execution_count": 28,
   "metadata": {},
   "outputs": [],
   "source": [
    "v1 = model.infer_vector(test_data)"
   ]
  },
  {
   "cell_type": "code",
   "execution_count": null,
   "metadata": {},
   "outputs": [],
   "source": []
  },
  {
   "cell_type": "code",
   "execution_count": 29,
   "metadata": {},
   "outputs": [],
   "source": [
    "sim = model.docvecs.most_similar([v1])"
   ]
  },
  {
   "cell_type": "code",
   "execution_count": 30,
   "metadata": {},
   "outputs": [
    {
     "name": "stdout",
     "output_type": "stream",
     "text": [
      "[('Geography_Cyprus_History_', 0.5659886598587036), ('Stadium_Widnes_Transport_', 0.5650960206985474), ('Dog_Azawakh_Temperament_', 0.5470141768455505), ('Geography_Myanmar_Etymology_', 0.5461175441741943), ('Dog_Cairn_Terrier_Description_', 0.5395814180374146), ('Dog_American_Pit_Bull_Terrier_Strains_', 0.5375751256942749), ('Dog_Golden_Retriever_Common_health_problems_', 0.537419319152832), ('Geography_Antigua_and_Barbuda_Culture_', 0.535957396030426), ('Geography_Northern_Mariana_Islands_Economy_', 0.533873438835144), ('Geography_San_Marino_History_', 0.529992938041687)]\n"
     ]
    }
   ],
   "source": [
    "print sim"
   ]
  },
  {
   "cell_type": "code",
   "execution_count": 9,
   "metadata": {},
   "outputs": [],
   "source": [
    "model.save('/home/kush/Desktop/doc2vec_2.model')"
   ]
  },
  {
   "cell_type": "code",
   "execution_count": null,
   "metadata": {},
   "outputs": [],
   "source": []
  }
 ],
 "metadata": {
  "kernelspec": {
   "display_name": "Python 2",
   "language": "python",
   "name": "python2"
  },
  "language_info": {
   "codemirror_mode": {
    "name": "ipython",
    "version": 2
   },
   "file_extension": ".py",
   "mimetype": "text/x-python",
   "name": "python",
   "nbconvert_exporter": "python",
   "pygments_lexer": "ipython2",
   "version": "2.7.12"
  }
 },
 "nbformat": 4,
 "nbformat_minor": 2
}
