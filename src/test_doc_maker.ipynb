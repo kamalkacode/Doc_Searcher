{
 "cells": [
  {
   "cell_type": "code",
   "execution_count": 1,
   "metadata": {},
   "outputs": [],
   "source": [
    "import requests\n",
    "from bs4 import BeautifulSoup as BS\n",
    "import pandas as pd    \n",
    "import io\n",
    "import wikipedia as w\n",
    "import re"
   ]
  },
  {
   "cell_type": "code",
   "execution_count": 28,
   "metadata": {},
   "outputs": [],
   "source": [
    "# TEST DOC 1 : History of India \n",
    "pg = w.WikipediaPage('History of India')\n",
    "string = pg.content                       # whole page as unicode string\n",
    "pattern = r'\\n==\\s.+\\s==\\n'               # Regex pattern for headings \n",
    "headings  = re.findall(pattern, string) "
   ]
  },
  {
   "cell_type": "code",
   "execution_count": 29,
   "metadata": {},
   "outputs": [],
   "source": [
    "cnt = 0\n",
    "itr = string.find(headings[0])\n",
    "# print pg.title\n",
    "# print string[:itr]\n",
    "f = io.open('/home/kush/Desktop/test_docs/test_doc'+'_'+str(cnt), mode = 'w+' , encoding = 'utf-8')\n",
    "f.write(pg.title + '\\n' + string[:itr])\n",
    "f.close()\n",
    "cnt += 1"
   ]
  },
  {
   "cell_type": "code",
   "execution_count": 30,
   "metadata": {},
   "outputs": [],
   "source": [
    "# TEST DOC 2 : Dogs (wiki subheading biology)\n",
    "pg = w.WikipediaPage('Dog')\n",
    "string = pg.content                       # whole page as unicode string\n",
    "pattern = r'\\n==\\s.+\\s==\\n'               # Regex pattern for headings \n",
    "headings  = re.findall(pattern, string) "
   ]
  },
  {
   "cell_type": "code",
   "execution_count": 31,
   "metadata": {},
   "outputs": [],
   "source": [
    "itr1 = string.find(headings[4]) # subheading Biology \n",
    "itr2 = string.find(headings[5]) # subheading Biology \n",
    "# print pg.title\n",
    "# print string[:itr]\n",
    "f = io.open('/home/kush/Desktop/test_docs/test_doc'+'_'+str(cnt), mode = 'w+' , encoding = 'utf-8')\n",
    "f.write(pg.title + '\\n' + string[itr1:itr2])\n",
    "f.close()\n",
    "cnt += 1"
   ]
  },
  {
   "cell_type": "code",
   "execution_count": 38,
   "metadata": {},
   "outputs": [],
   "source": [
    "# TEST DOC 3 : Edgbaston Cricket Ground \n",
    "pg = w.WikipediaPage('Edgbaston Cricket Ground')\n",
    "string = pg.content                       # whole page as unicode string\n",
    "pattern = r'\\n==\\s.+\\s==\\n'               # Regex pattern for headings \n",
    "headings  = re.findall(pattern, string) "
   ]
  },
  {
   "cell_type": "code",
   "execution_count": 39,
   "metadata": {},
   "outputs": [],
   "source": [
    "itr1 = string.find(headings[1]) # subheading Ground \n",
    "itr2 = string.find(headings[2]) \n",
    "# print pg.title\n",
    "# print string[:itr]\n",
    "f = io.open('/home/kush/Desktop/test_docs/test_doc'+'_'+str(cnt), mode = 'w+' , encoding = 'utf-8')\n",
    "f.write(pg.title + '\\n' + string[itr1:itr2])\n",
    "f.close()\n",
    "cnt += 1"
   ]
  },
  {
   "cell_type": "code",
   "execution_count": 41,
   "metadata": {},
   "outputs": [],
   "source": [
    "# TEST DOC 4 : Scooby-Doo(character) \n",
    "pg = w.WikipediaPage('Scooby-Doo (character)')\n",
    "string = pg.content                       # whole page as unicode string\n",
    "pattern = r'\\n==\\s.+\\s==\\n'               # Regex pattern for headings \n",
    "headings  = re.findall(pattern, string) "
   ]
  },
  {
   "cell_type": "code",
   "execution_count": 42,
   "metadata": {},
   "outputs": [],
   "source": [
    "itr1 = string.find(headings[1]) # subheading Personality\n",
    "itr2 = string.find(headings[2]) \n",
    "# print pg.title\n",
    "# print string[:itr]\n",
    "f = io.open('/home/kush/Desktop/test_docs/test_doc'+'_'+str(cnt), mode = 'w+' , encoding = 'utf-8')\n",
    "f.write(pg.title + '\\n' + string[itr1:itr2])\n",
    "f.close()\n",
    "cnt += 1"
   ]
  },
  {
   "cell_type": "code",
   "execution_count": 44,
   "metadata": {},
   "outputs": [],
   "source": [
    "# TEST DOC 5 : Eden Gardens \n",
    "pg = w.WikipediaPage('Eden Gardens')\n",
    "string = pg.content                       # whole page as unicode string\n",
    "pattern = r'\\n==\\s.+\\s==\\n'               # Regex pattern for headings \n",
    "headings  = re.findall(pattern, string)"
   ]
  },
  {
   "cell_type": "code",
   "execution_count": 47,
   "metadata": {},
   "outputs": [],
   "source": [
    "itr1 = string.find(headings[1]) # subheading History\n",
    "itr2 = string.find(headings[2]) \n",
    "# print pg.title\n",
    "# print string[:itr]\n",
    "f = io.open('/home/kush/Desktop/test_docs/test_doc'+'_'+str(cnt), mode = 'w+' , encoding = 'utf-8')\n",
    "f.write(pg.title + '\\n' + string[itr1:itr2])\n",
    "f.close()\n",
    "cnt += 1"
   ]
  },
  {
   "cell_type": "code",
   "execution_count": null,
   "metadata": {},
   "outputs": [],
   "source": []
  }
 ],
 "metadata": {
  "kernelspec": {
   "display_name": "Python 2",
   "language": "python",
   "name": "python2"
  },
  "language_info": {
   "codemirror_mode": {
    "name": "ipython",
    "version": 2
   },
   "file_extension": ".py",
   "mimetype": "text/x-python",
   "name": "python",
   "nbconvert_exporter": "python",
   "pygments_lexer": "ipython2",
   "version": "2.7.12"
  }
 },
 "nbformat": 4,
 "nbformat_minor": 2
}
