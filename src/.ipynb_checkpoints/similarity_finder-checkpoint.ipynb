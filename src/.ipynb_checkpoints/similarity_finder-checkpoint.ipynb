{
 "cells": [
  {
   "cell_type": "code",
   "execution_count": 2,
   "metadata": {},
   "outputs": [],
   "source": [
    "from os import listdir\n",
    "import io\n",
    "import gensim\n",
    "import gensim.models.doc2vec as d2v\n",
    "import json"
   ]
  },
  {
   "cell_type": "code",
   "execution_count": 3,
   "metadata": {},
   "outputs": [],
   "source": [
    "model = d2v.Doc2Vec.load(\"/home/kush/Desktop/library_project/models/doc2vec_2.model\")"
   ]
  },
  {
   "cell_type": "code",
   "execution_count": 10,
   "metadata": {},
   "outputs": [
    {
     "name": "stdout",
     "output_type": "stream",
     "text": [
      "top 10 docs for doc : History of India\n",
      "\n",
      "{\"res\": [[\"Geography_Syria_Etymology_\", 0.6777560710906982], [\"Dog_Brittany_Etymology_\", 0.6584756374359131], [\"Stadium_Widnes_Transport_\", 0.6490699052810669], [\"Dog_Cairn_Terrier_Description_\", 0.6483880877494812], [\"Geography_Uzbekistan_Human_rights_\", 0.628790557384491], [\"Dog_Mexican_Hairless_Dog_Mexican_Hairless_Dog_title\", 0.6286514401435852], [\"Geography_Myanmar_Etymology_\", 0.6262497305870056], [\"Dog_Shar_Pei_Health_\", 0.623391330242157], [\"Geography_South_Africa_South_Africa_title\", 0.6209309101104736], [\"Geography_Cyprus_History_\", 0.6196810603141785]], \"title\": \"History of India\"}\n",
      "********************************************************************************************************************************************\n",
      "top 10 docs for doc : Dog\n",
      "\n",
      "{\"res\": [[\"Dog_Cairn_Terrier_Description_\", 0.6939612030982971], [\"Stadium_Widnes_Transport_\", 0.6620031595230103], [\"Geography_Syria_Etymology_\", 0.6417494416236877], [\"Dog_Brittany_Etymology_\", 0.6415818333625793], [\"Geography_Cyprus_History_\", 0.629357099533081], [\"Geography_Myanmar_Etymology_\", 0.6129769086837769], [\"Geography_Vanuatu_Vanuatu_title\", 0.5984629392623901], [\"Geography_South_Sudan_Humanitarian_situation_\", 0.5978641510009766], [\"Dog_Rafeiro_do_Alentejo_History_\", 0.5976811647415161], [\"Dog_Azawakh_Temperament_\", 0.5950394868850708]], \"title\": \"Dog\"}\n",
      "********************************************************************************************************************************************\n",
      "top 10 docs for doc : Edgbaston Cricket Ground\n",
      "\n",
      "{\"res\": [[\"Stadium_Widnes_Transport_\", 0.6902937889099121], [\"Dog_Cairn_Terrier_Description_\", 0.6893426179885864], [\"Dog_Brittany_Etymology_\", 0.6800745725631714], [\"Geography_Syria_Etymology_\", 0.6745957136154175], [\"Geography_Myanmar_Etymology_\", 0.6443092823028564], [\"Dog_Azawakh_Temperament_\", 0.6345323324203491], [\"Geography_Cyprus_History_\", 0.6327723264694214], [\"Geography_South_Africa_South_Africa_title\", 0.6261470913887024], [\"Dog_Shar_Pei_Health_\", 0.624369204044342], [\"Geography_South_Sudan_Humanitarian_situation_\", 0.6242927312850952]], \"title\": \"Edgbaston Cricket Ground\"}\n",
      "********************************************************************************************************************************************\n",
      "top 10 docs for doc : Scooby-Doo (character)\n",
      "\n",
      "{\"res\": [[\"Dog_Cairn_Terrier_Description_\", 0.6634259223937988], [\"Geography_Syria_Etymology_\", 0.6115202903747559], [\"Dog_Brittany_Etymology_\", 0.6072548031806946], [\"Geography_Cyprus_History_\", 0.5930345058441162], [\"Stadium_Widnes_Transport_\", 0.591126561164856], [\"Geography_Myanmar_Etymology_\", 0.5880017280578613], [\"Geography_Philippines_Philippines_title\", 0.5865453481674194], [\"Geography_Argentina_Culture_\", 0.5825923681259155], [\"Geography_South_Africa_South_Africa_title\", 0.5774022340774536], [\"Geography_Uzbekistan_Human_rights_\", 0.5683352947235107]], \"title\": \"Scooby-Doo (character)\"}\n",
      "********************************************************************************************************************************************\n",
      "top 10 docs for doc : Eden Gardens\n",
      "\n",
      "{\"res\": [[\"Dog_Brittany_Etymology_\", 0.7093576192855835], [\"Dog_Cairn_Terrier_Description_\", 0.7089711427688599], [\"Geography_Myanmar_Etymology_\", 0.694308876991272], [\"Stadium_Widnes_Transport_\", 0.6858927011489868], [\"Geography_Syria_Etymology_\", 0.6743977069854736], [\"Geography_Cyprus_History_\", 0.6701682806015015], [\"Dog_Norwegian_Lundehund_History_\", 0.6597874164581299], [\"Geography_Argentina_Culture_\", 0.6534584760665894], [\"Dog_Azawakh_Temperament_\", 0.6509714126586914], [\"Geography_South_Africa_South_Africa_title\", 0.6496076583862305]], \"title\": \"Eden Gardens\"}\n",
      "********************************************************************************************************************************************\n"
     ]
    }
   ],
   "source": [
    "\n",
    "for i in range(5) :\n",
    "    f = io.open('/home/kush/Desktop/library_project/test_docs/test_doc'+'_'+str(i), mode = 'r+' , encoding = 'utf-8')\n",
    "    test_data = f.read()\n",
    "    f.close()\n",
    "    v1 = model.infer_vector(test_data.split())\n",
    "    sim = model.docvecs.most_similar([v1])\n",
    "    itr = test_data.find('\\n')\n",
    "    print 'top 10 docs for doc : ' + test_data[:itr] + '\\n'\n",
    "    obj = {'res':sim , 'title' : test_data[:itr]}\n",
    "    obj = json.dumps(obj)\n",
    "    print obj\n",
    "#     for j in sim :\n",
    "#         print str(j[0]) + '---->' + str(j[1])\n",
    "    print '*'*140\n",
    "        \n",
    "    "
   ]
  },
  {
   "cell_type": "code",
   "execution_count": 8,
   "metadata": {},
   "outputs": [],
   "source": [
    "f = io.open('/home/kush/Desktop/test_docs/test_doc'+'_'+str(1), mode = 'r+' , encoding = 'utf-8')\n",
    "string = f.read()"
   ]
  },
  {
   "cell_type": "code",
   "execution_count": 14,
   "metadata": {},
   "outputs": [],
   "source": [
    "# print string"
   ]
  },
  {
   "cell_type": "code",
   "execution_count": null,
   "metadata": {},
   "outputs": [],
   "source": []
  }
 ],
 "metadata": {
  "kernelspec": {
   "display_name": "Python 2",
   "language": "python",
   "name": "python2"
  },
  "language_info": {
   "codemirror_mode": {
    "name": "ipython",
    "version": 2
   },
   "file_extension": ".py",
   "mimetype": "text/x-python",
   "name": "python",
   "nbconvert_exporter": "python",
   "pygments_lexer": "ipython2",
   "version": "2.7.12"
  }
 },
 "nbformat": 4,
 "nbformat_minor": 2
}
