{
 "cells": [
  {
   "cell_type": "code",
   "execution_count": 1,
   "metadata": {},
   "outputs": [],
   "source": [
    "from os import listdir\n",
    "import io\n",
    "import gensim\n",
    "import gensim.models.doc2vec as d2v"
   ]
  },
  {
   "cell_type": "code",
   "execution_count": 2,
   "metadata": {},
   "outputs": [],
   "source": [
    "model = d2v.Doc2Vec.load(\"/home/kush/Desktop/doc2vec_2.model\")"
   ]
  },
  {
   "cell_type": "code",
   "execution_count": 19,
   "metadata": {},
   "outputs": [
    {
     "name": "stdout",
     "output_type": "stream",
     "text": [
      "top 10 docs for doc : History of India\n",
      "\n",
      "Dog_Brittany_Etymology_---->0.721330225468\n",
      "Stadium_Widnes_Transport_---->0.699065029621\n",
      "Geography_Syria_Etymology_---->0.698148131371\n",
      "Dog_Cairn_Terrier_Description_---->0.696838855743\n",
      "Dog_Shar_Pei_Health_---->0.670979261398\n",
      "Geography_Myanmar_Etymology_---->0.668600797653\n",
      "Geography_Afghanistan_Economy_---->0.668450474739\n",
      "Dog_Azawakh_Temperament_---->0.665116250515\n",
      "Dog_Mexican_Hairless_Dog_Mexican_Hairless_Dog_title---->0.656881093979\n",
      "Geography_Iceland_Geography_---->0.65209966898\n",
      "********************************************************************************************************************************************\n",
      "top 10 docs for doc : Dog\n",
      "\n",
      "Stadium_Widnes_Transport_---->0.716260373592\n",
      "Dog_Cairn_Terrier_Description_---->0.697934389114\n",
      "Geography_Cyprus_History_---->0.672422885895\n",
      "Dog_Brittany_Etymology_---->0.659840524197\n",
      "Geography_Syria_Etymology_---->0.656327843666\n",
      "Geography_South_Sudan_Humanitarian_situation_---->0.654746770859\n",
      "Geography_Myanmar_Etymology_---->0.65417277813\n",
      "Geography_South_Africa_South_Africa_title---->0.637073338032\n",
      "Geography_Uzbekistan_Human_rights_---->0.631491780281\n",
      "Geography_Northern_Mariana_Islands_Economy_---->0.631262660027\n",
      "********************************************************************************************************************************************\n",
      "top 10 docs for doc : Edgbaston Cricket Ground\n",
      "\n",
      "Dog_Cairn_Terrier_Description_---->0.705485582352\n",
      "Stadium_Widnes_Transport_---->0.693324685097\n",
      "Dog_Brittany_Etymology_---->0.673582494259\n",
      "Geography_Syria_Etymology_---->0.64421826601\n",
      "Geography_Cyprus_History_---->0.642264604568\n",
      "Geography_Myanmar_Etymology_---->0.629308581352\n",
      "Geography_Northern_Mariana_Islands_Economy_---->0.618120729923\n",
      "Dog_American_Pit_Bull_Terrier_Strains_---->0.618024110794\n",
      "Dog_Azawakh_Temperament_---->0.617643892765\n",
      "Geography_South_Sudan_Humanitarian_situation_---->0.614800632\n",
      "********************************************************************************************************************************************\n",
      "top 10 docs for doc : Scooby-Doo (character)\n",
      "\n",
      "Dog_Cairn_Terrier_Description_---->0.620077848434\n",
      "Dog_Brittany_Etymology_---->0.589815497398\n",
      "Geography_Myanmar_Etymology_---->0.585874140263\n",
      "Geography_Syria_Etymology_---->0.583988547325\n",
      "Dog_Shar_Pei_Health_---->0.574213564396\n",
      "Stadium_Widnes_Transport_---->0.565521895885\n",
      "Geography_Cyprus_History_---->0.565451025963\n",
      "Geography_Uzbekistan_Human_rights_---->0.561552524567\n",
      "Geography_South_Africa_South_Africa_title---->0.561051607132\n",
      "Dog_Tibetan_Mastiff_Names_and_etymology_---->0.556749463081\n",
      "********************************************************************************************************************************************\n",
      "top 10 docs for doc : Eden Gardens\n",
      "\n",
      "Dog_Brittany_Etymology_---->0.684709846973\n",
      "Dog_Cairn_Terrier_Description_---->0.680755376816\n",
      "Geography_Syria_Etymology_---->0.664830684662\n",
      "Dog_Mexican_Hairless_Dog_Mexican_Hairless_Dog_title---->0.642529964447\n",
      "Stadium_Widnes_Transport_---->0.633023619652\n",
      "Geography_Myanmar_Etymology_---->0.632022678852\n",
      "Geography_Vanuatu_Vanuatu_title---->0.618536710739\n",
      "Geography_Afghanistan_Economy_---->0.617522716522\n",
      "Geography_Argentina_Culture_---->0.605394244194\n",
      "Geography_Sierra_Leone_Government_and_politics_---->0.593853473663\n",
      "********************************************************************************************************************************************\n"
     ]
    }
   ],
   "source": [
    "\n",
    "for i in range(5) :\n",
    "    f = io.open('/home/kush/Desktop/test_docs/test_doc'+'_'+str(i), mode = 'r+' , encoding = 'utf-8')\n",
    "    test_data = f.read()\n",
    "    f.close()\n",
    "    v1 = model.infer_vector(test_data.split())\n",
    "    sim = model.docvecs.most_similar([v1])\n",
    "    itr = test_data.find('\\n')\n",
    "    print 'top 10 docs for doc : ' + test_data[:itr] + '\\n'\n",
    "    for j in sim :\n",
    "        print str(j[0]) + '---->' + str(j[1])\n",
    "    print '*'*140\n",
    "        \n",
    "    "
   ]
  },
  {
   "cell_type": "code",
   "execution_count": 8,
   "metadata": {},
   "outputs": [],
   "source": [
    "f = io.open('/home/kush/Desktop/test_docs/test_doc'+'_'+str(1), mode = 'r+' , encoding = 'utf-8')\n",
    "string = f.read()"
   ]
  },
  {
   "cell_type": "code",
   "execution_count": 14,
   "metadata": {},
   "outputs": [],
   "source": [
    "# print string"
   ]
  },
  {
   "cell_type": "code",
   "execution_count": null,
   "metadata": {},
   "outputs": [],
   "source": []
  }
 ],
 "metadata": {
  "kernelspec": {
   "display_name": "Python 2",
   "language": "python",
   "name": "python2"
  },
  "language_info": {
   "codemirror_mode": {
    "name": "ipython",
    "version": 2
   },
   "file_extension": ".py",
   "mimetype": "text/x-python",
   "name": "python",
   "nbconvert_exporter": "python",
   "pygments_lexer": "ipython2",
   "version": "2.7.12"
  }
 },
 "nbformat": 4,
 "nbformat_minor": 2
}
